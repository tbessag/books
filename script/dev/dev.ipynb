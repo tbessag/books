{
 "cells": [
  {
   "cell_type": "code",
   "execution_count": 1,
   "id": "eaf19ffe",
   "metadata": {},
   "outputs": [],
   "source": [
    "import requests\n",
    "import json\n",
    "from datetime import date"
   ]
  },
  {
   "cell_type": "code",
   "execution_count": 2,
   "id": "6cb0fc4c",
   "metadata": {},
   "outputs": [],
   "source": [
    "import re\n",
    "\n",
    "def sanitize_isbn_list(data: dict) -> list:\n",
    "    \"\"\"Takes a JSON-like dict with a list of ISBNs and returns a sanitized list of 13-digit strings.\"\"\"\n",
    "    raw_isbns = data.get(\"isbn\", [])\n",
    "    clean_isbns = []\n",
    "\n",
    "    for isbn in raw_isbns:\n",
    "        digits_only = re.sub(r\"[^\\d]\", \"\", isbn)  # remove dashes and non-digit chars\n",
    "        if len(digits_only) == 13:\n",
    "            clean_isbns.append(digits_only)\n",
    "        else:\n",
    "            print(f\"Warning: Skipping invalid ISBN '{isbn}' → '{digits_only}'\")\n",
    "\n",
    "    return clean_isbns\n"
   ]
  },
  {
   "cell_type": "code",
   "execution_count": 3,
   "id": "e8af34fc",
   "metadata": {},
   "outputs": [
    {
     "name": "stdout",
     "output_type": "stream",
     "text": [
      "['9781509867391', '9780679762881', '9782070368228', '9780141036137']\n"
     ]
    }
   ],
   "source": [
    "input_data = {\n",
    "    \"isbn\": [\n",
    "        \"978-1-5098-6739-1\",\n",
    "        \"978-0-679-76288-1\",\n",
    "        \"978-2-07-036822-8\",\n",
    "        \"978-0-141-03613-7\"\n",
    "    ]\n",
    "}\n",
    "\n",
    "clean_isbns = sanitize_isbn_list(input_data)\n",
    "print(clean_isbns)\n"
   ]
  },
  {
   "cell_type": "code",
   "execution_count": 4,
   "id": "0df5e5a9",
   "metadata": {},
   "outputs": [],
   "source": [
    "def fetch_book_metadata(isbn: str) -> dict:\n",
    "    url = f\"https://www.googleapis.com/books/v1/volumes?q=isbn:{isbn}\"\n",
    "    response = requests.get(url)\n",
    "    data = response.json()\n",
    "\n",
    "    if \"items\" not in data:\n",
    "        raise ValueError(f\"No book found for ISBN: {isbn}\")\n",
    "\n",
    "    book_info = data[\"items\"][0][\"volumeInfo\"]\n",
    "\n",
    "    return {\n",
    "        \"title\": book_info.get(\"title\", \"Unknown Title\"),\n",
    "        \"author\": \", \".join(book_info.get(\"authors\", [\"Unknown Author\"])),\n",
    "        \"isbn\": isbn,\n",
    "        \"status\": \"to read\",\n",
    "        \"category\": \"professional reading\",\n",
    "        \"pages\": book_info.get(\"pageCount\", None),\n",
    "        \"publication_date\": book_info.get(\"publishedDate\", \"\"),\n",
    "        \"cover_url\": book_info.get(\"imageLinks\", {}).get(\"thumbnail\", \"\"),\n",
    "        \"added_on\": str(date.today())\n",
    "    }\n"
   ]
  },
  {
   "cell_type": "code",
   "execution_count": 5,
   "id": "f79c1d85",
   "metadata": {},
   "outputs": [
    {
     "name": "stdout",
     "output_type": "stream",
     "text": [
      "{\n",
      "  \"title\": \"Talk Like TED\",\n",
      "  \"author\": \"Carmine Gallo\",\n",
      "  \"isbn\": \"9781509867391\",\n",
      "  \"status\": \"to read\",\n",
      "  \"category\": \"professional reading\",\n",
      "  \"pages\": 288,\n",
      "  \"publication_date\": \"2017-07-13\",\n",
      "  \"cover_url\": \"http://books.google.com/books/content?id=Q97xAQAACAAJ&printsec=frontcover&img=1&zoom=1&source=gbs_api\",\n",
      "  \"added_on\": \"2025-06-16\"\n",
      "}\n"
     ]
    }
   ],
   "source": [
    "\n",
    "if __name__ == \"__main__\":\n",
    "    isbn_input = '9781509867391'\n",
    "    metadata = fetch_book_metadata(isbn_input)\n",
    "    print(json.dumps(metadata, indent=2))"
   ]
  },
  {
   "cell_type": "code",
   "execution_count": null,
   "id": "29a93883",
   "metadata": {},
   "outputs": [],
   "source": []
  }
 ],
 "metadata": {
  "kernelspec": {
   "display_name": "base",
   "language": "python",
   "name": "python3"
  },
  "language_info": {
   "codemirror_mode": {
    "name": "ipython",
    "version": 3
   },
   "file_extension": ".py",
   "mimetype": "text/x-python",
   "name": "python",
   "nbconvert_exporter": "python",
   "pygments_lexer": "ipython3",
   "version": "3.8.13"
  }
 },
 "nbformat": 4,
 "nbformat_minor": 5
}
